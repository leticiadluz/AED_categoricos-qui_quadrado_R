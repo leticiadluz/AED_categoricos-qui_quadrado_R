{
 "cells": [
  {
   "cell_type": "markdown",
   "id": "f2a5b8d2",
   "metadata": {},
   "source": [
    "A **tabela de contingência** é uma ferramenta estatística que exibe a distribuição conjunta de duas ou mais variáveis categóricas. Ela organiza os dados em linhas e colunas, mostrando a frequência com que as diferentes combinações de categorias ocorrem.\n",
    "Vamos criar uma tabela de contigência com o dataset carros-usados."
   ]
  },
  {
   "cell_type": "code",
   "execution_count": 1,
   "id": "5915bc0f",
   "metadata": {
    "vscode": {
     "languageId": "r"
    }
   },
   "outputs": [
    {
     "name": "stderr",
     "output_type": "stream",
     "text": [
      "Warning message:\n",
      "\"package 'readr' was built under R version 4.2.3\"\n"
     ]
    }
   ],
   "source": [
    "library('readr')"
   ]
  },
  {
   "cell_type": "code",
   "execution_count": 2,
   "id": "6d08926d",
   "metadata": {
    "vscode": {
     "languageId": "r"
    }
   },
   "outputs": [
    {
     "name": "stderr",
     "output_type": "stream",
     "text": [
      "\u001b[1mRows: \u001b[22m\u001b[34m150\u001b[39m \u001b[1mColumns: \u001b[22m\u001b[34m6\u001b[39m\n",
      "\u001b[36m──\u001b[39m \u001b[1mColumn specification\u001b[22m \u001b[36m────────────────────────────────────────────────────────────────────────────────────────────────\u001b[39m\n",
      "\u001b[1mDelimiter:\u001b[22m \",\"\n",
      "\u001b[31mchr\u001b[39m (3): modelo, cor, transmissao\n",
      "\u001b[32mdbl\u001b[39m (3): ano, preco, kilometragem\n",
      "\n",
      "\u001b[36mℹ\u001b[39m Use `spec()` to retrieve the full column specification for this data.\n",
      "\u001b[36mℹ\u001b[39m Specify the column types or set `show_col_types = FALSE` to quiet this message.\n"
     ]
    },
    {
     "data": {
      "text/html": [
       "<table class=\"dataframe\">\n",
       "<caption>A tibble: 6 × 6</caption>\n",
       "<thead>\n",
       "\t<tr><th scope=col>ano</th><th scope=col>modelo</th><th scope=col>preco</th><th scope=col>kilometragem</th><th scope=col>cor</th><th scope=col>transmissao</th></tr>\n",
       "\t<tr><th scope=col>&lt;dbl&gt;</th><th scope=col>&lt;chr&gt;</th><th scope=col>&lt;dbl&gt;</th><th scope=col>&lt;dbl&gt;</th><th scope=col>&lt;chr&gt;</th><th scope=col>&lt;chr&gt;</th></tr>\n",
       "</thead>\n",
       "<tbody>\n",
       "\t<tr><td>2011</td><td>SEL</td><td>21992</td><td> 7413</td><td>Bege  </td><td>AUTO</td></tr>\n",
       "\t<tr><td>2011</td><td>SEL</td><td>20995</td><td>10926</td><td>Cinza </td><td>AUTO</td></tr>\n",
       "\t<tr><td>2011</td><td>SEL</td><td>19995</td><td> 7351</td><td>Prata </td><td>AUTO</td></tr>\n",
       "\t<tr><td>2011</td><td>SEL</td><td>17809</td><td>11613</td><td>Cinza </td><td>AUTO</td></tr>\n",
       "\t<tr><td>2012</td><td>SE </td><td>17500</td><td> 8367</td><td>Branco</td><td>AUTO</td></tr>\n",
       "\t<tr><td>2010</td><td>SEL</td><td>17495</td><td>25125</td><td>Prata </td><td>AUTO</td></tr>\n",
       "</tbody>\n",
       "</table>\n"
      ],
      "text/latex": [
       "A tibble: 6 × 6\n",
       "\\begin{tabular}{llllll}\n",
       " ano & modelo & preco & kilometragem & cor & transmissao\\\\\n",
       " <dbl> & <chr> & <dbl> & <dbl> & <chr> & <chr>\\\\\n",
       "\\hline\n",
       "\t 2011 & SEL & 21992 &  7413 & Bege   & AUTO\\\\\n",
       "\t 2011 & SEL & 20995 & 10926 & Cinza  & AUTO\\\\\n",
       "\t 2011 & SEL & 19995 &  7351 & Prata  & AUTO\\\\\n",
       "\t 2011 & SEL & 17809 & 11613 & Cinza  & AUTO\\\\\n",
       "\t 2012 & SE  & 17500 &  8367 & Branco & AUTO\\\\\n",
       "\t 2010 & SEL & 17495 & 25125 & Prata  & AUTO\\\\\n",
       "\\end{tabular}\n"
      ],
      "text/markdown": [
       "\n",
       "A tibble: 6 × 6\n",
       "\n",
       "| ano &lt;dbl&gt; | modelo &lt;chr&gt; | preco &lt;dbl&gt; | kilometragem &lt;dbl&gt; | cor &lt;chr&gt; | transmissao &lt;chr&gt; |\n",
       "|---|---|---|---|---|---|\n",
       "| 2011 | SEL | 21992 |  7413 | Bege   | AUTO |\n",
       "| 2011 | SEL | 20995 | 10926 | Cinza  | AUTO |\n",
       "| 2011 | SEL | 19995 |  7351 | Prata  | AUTO |\n",
       "| 2011 | SEL | 17809 | 11613 | Cinza  | AUTO |\n",
       "| 2012 | SE  | 17500 |  8367 | Branco | AUTO |\n",
       "| 2010 | SEL | 17495 | 25125 | Prata  | AUTO |\n",
       "\n"
      ],
      "text/plain": [
       "  ano  modelo preco kilometragem cor    transmissao\n",
       "1 2011 SEL    21992  7413        Bege   AUTO       \n",
       "2 2011 SEL    20995 10926        Cinza  AUTO       \n",
       "3 2011 SEL    19995  7351        Prata  AUTO       \n",
       "4 2011 SEL    17809 11613        Cinza  AUTO       \n",
       "5 2012 SE     17500  8367        Branco AUTO       \n",
       "6 2010 SEL    17495 25125        Prata  AUTO       "
      ]
     },
     "metadata": {},
     "output_type": "display_data"
    }
   ],
   "source": [
    "carros <- read_csv('carros-usados.csv')\n",
    "head(carros)"
   ]
  },
  {
   "cell_type": "code",
   "execution_count": null,
   "id": "1f49b4e5",
   "metadata": {
    "vscode": {
     "languageId": "r"
    }
   },
   "outputs": [],
   "source": []
  },
  {
   "cell_type": "markdown",
   "id": "7350b482",
   "metadata": {},
   "source": [
    "Vamos utilizar a **função table** que cria tabelas de frequência ou tabelas de contingência a partir de um vetor ou de várias variáveis categóricas."
   ]
  },
  {
   "cell_type": "code",
   "execution_count": 3,
   "id": "5436d6d2",
   "metadata": {
    "vscode": {
     "languageId": "r"
    }
   },
   "outputs": [
    {
     "data": {
      "text/plain": [
       "\n",
       "    Azul     Bege   Branco    Cinza     Gold    Prata    Preto    Verde \n",
       "      17        3       16       16        1       32       35        5 \n",
       "Vermelho \n",
       "      25 "
      ]
     },
     "metadata": {},
     "output_type": "display_data"
    },
    {
     "data": {
      "text/plain": [
       "\n",
       "       Azul        Bege      Branco       Cinza        Gold       Prata \n",
       "0.113333333 0.020000000 0.106666667 0.106666667 0.006666667 0.213333333 \n",
       "      Preto       Verde    Vermelho \n",
       "0.233333333 0.033333333 0.166666667 "
      ]
     },
     "metadata": {},
     "output_type": "display_data"
    }
   ],
   "source": [
    "table(carros$cor)\n",
    "prop.table(table(carros$cor))"
   ]
  },
  {
   "cell_type": "code",
   "execution_count": 4,
   "id": "bfbe05d9",
   "metadata": {
    "vscode": {
     "languageId": "r"
    }
   },
   "outputs": [
    {
     "data": {
      "text/html": [
       "<table class=\"dataframe\">\n",
       "<caption>A data.frame: 9 × 2</caption>\n",
       "<thead>\n",
       "\t<tr><th scope=col>Var1</th><th scope=col>Freq</th></tr>\n",
       "\t<tr><th scope=col>&lt;fct&gt;</th><th scope=col>&lt;int&gt;</th></tr>\n",
       "</thead>\n",
       "<tbody>\n",
       "\t<tr><td>Azul    </td><td>17</td></tr>\n",
       "\t<tr><td>Bege    </td><td> 3</td></tr>\n",
       "\t<tr><td>Branco  </td><td>16</td></tr>\n",
       "\t<tr><td>Cinza   </td><td>16</td></tr>\n",
       "\t<tr><td>Gold    </td><td> 1</td></tr>\n",
       "\t<tr><td>Prata   </td><td>32</td></tr>\n",
       "\t<tr><td>Preto   </td><td>35</td></tr>\n",
       "\t<tr><td>Verde   </td><td> 5</td></tr>\n",
       "\t<tr><td>Vermelho</td><td>25</td></tr>\n",
       "</tbody>\n",
       "</table>\n"
      ],
      "text/latex": [
       "A data.frame: 9 × 2\n",
       "\\begin{tabular}{ll}\n",
       " Var1 & Freq\\\\\n",
       " <fct> & <int>\\\\\n",
       "\\hline\n",
       "\t Azul     & 17\\\\\n",
       "\t Bege     &  3\\\\\n",
       "\t Branco   & 16\\\\\n",
       "\t Cinza    & 16\\\\\n",
       "\t Gold     &  1\\\\\n",
       "\t Prata    & 32\\\\\n",
       "\t Preto    & 35\\\\\n",
       "\t Verde    &  5\\\\\n",
       "\t Vermelho & 25\\\\\n",
       "\\end{tabular}\n"
      ],
      "text/markdown": [
       "\n",
       "A data.frame: 9 × 2\n",
       "\n",
       "| Var1 &lt;fct&gt; | Freq &lt;int&gt; |\n",
       "|---|---|\n",
       "| Azul     | 17 |\n",
       "| Bege     |  3 |\n",
       "| Branco   | 16 |\n",
       "| Cinza    | 16 |\n",
       "| Gold     |  1 |\n",
       "| Prata    | 32 |\n",
       "| Preto    | 35 |\n",
       "| Verde    |  5 |\n",
       "| Vermelho | 25 |\n",
       "\n"
      ],
      "text/plain": [
       "  Var1     Freq\n",
       "1 Azul     17  \n",
       "2 Bege      3  \n",
       "3 Branco   16  \n",
       "4 Cinza    16  \n",
       "5 Gold      1  \n",
       "6 Prata    32  \n",
       "7 Preto    35  \n",
       "8 Verde     5  \n",
       "9 Vermelho 25  "
      ]
     },
     "metadata": {},
     "output_type": "display_data"
    }
   ],
   "source": [
    "frequencia_cores <-data.frame(table(carros$cor)) \n",
    "frequencia_cores"
   ]
  },
  {
   "cell_type": "code",
   "execution_count": 5,
   "id": "e1a7ed7b",
   "metadata": {
    "vscode": {
     "languageId": "r"
    }
   },
   "outputs": [
    {
     "data": {
      "text/html": [
       "<table class=\"dataframe\">\n",
       "<caption>A data.frame: 9 × 3</caption>\n",
       "<thead>\n",
       "\t<tr><th scope=col>Var1</th><th scope=col>Freq</th><th scope=col>Proporcao</th></tr>\n",
       "\t<tr><th scope=col>&lt;fct&gt;</th><th scope=col>&lt;int&gt;</th><th scope=col>&lt;dbl&gt;</th></tr>\n",
       "</thead>\n",
       "<tbody>\n",
       "\t<tr><td>Azul    </td><td>17</td><td>0.113333333</td></tr>\n",
       "\t<tr><td>Bege    </td><td> 3</td><td>0.020000000</td></tr>\n",
       "\t<tr><td>Branco  </td><td>16</td><td>0.106666667</td></tr>\n",
       "\t<tr><td>Cinza   </td><td>16</td><td>0.106666667</td></tr>\n",
       "\t<tr><td>Gold    </td><td> 1</td><td>0.006666667</td></tr>\n",
       "\t<tr><td>Prata   </td><td>32</td><td>0.213333333</td></tr>\n",
       "\t<tr><td>Preto   </td><td>35</td><td>0.233333333</td></tr>\n",
       "\t<tr><td>Verde   </td><td> 5</td><td>0.033333333</td></tr>\n",
       "\t<tr><td>Vermelho</td><td>25</td><td>0.166666667</td></tr>\n",
       "</tbody>\n",
       "</table>\n"
      ],
      "text/latex": [
       "A data.frame: 9 × 3\n",
       "\\begin{tabular}{lll}\n",
       " Var1 & Freq & Proporcao\\\\\n",
       " <fct> & <int> & <dbl>\\\\\n",
       "\\hline\n",
       "\t Azul     & 17 & 0.113333333\\\\\n",
       "\t Bege     &  3 & 0.020000000\\\\\n",
       "\t Branco   & 16 & 0.106666667\\\\\n",
       "\t Cinza    & 16 & 0.106666667\\\\\n",
       "\t Gold     &  1 & 0.006666667\\\\\n",
       "\t Prata    & 32 & 0.213333333\\\\\n",
       "\t Preto    & 35 & 0.233333333\\\\\n",
       "\t Verde    &  5 & 0.033333333\\\\\n",
       "\t Vermelho & 25 & 0.166666667\\\\\n",
       "\\end{tabular}\n"
      ],
      "text/markdown": [
       "\n",
       "A data.frame: 9 × 3\n",
       "\n",
       "| Var1 &lt;fct&gt; | Freq &lt;int&gt; | Proporcao &lt;dbl&gt; |\n",
       "|---|---|---|\n",
       "| Azul     | 17 | 0.113333333 |\n",
       "| Bege     |  3 | 0.020000000 |\n",
       "| Branco   | 16 | 0.106666667 |\n",
       "| Cinza    | 16 | 0.106666667 |\n",
       "| Gold     |  1 | 0.006666667 |\n",
       "| Prata    | 32 | 0.213333333 |\n",
       "| Preto    | 35 | 0.233333333 |\n",
       "| Verde    |  5 | 0.033333333 |\n",
       "| Vermelho | 25 | 0.166666667 |\n",
       "\n"
      ],
      "text/plain": [
       "  Var1     Freq Proporcao  \n",
       "1 Azul     17   0.113333333\n",
       "2 Bege      3   0.020000000\n",
       "3 Branco   16   0.106666667\n",
       "4 Cinza    16   0.106666667\n",
       "5 Gold      1   0.006666667\n",
       "6 Prata    32   0.213333333\n",
       "7 Preto    35   0.233333333\n",
       "8 Verde     5   0.033333333\n",
       "9 Vermelho 25   0.166666667"
      ]
     },
     "metadata": {},
     "output_type": "display_data"
    }
   ],
   "source": [
    "frequencia_cores$Proporcao <- prop.table(frequencia_cores$Freq)\n",
    "frequencia_cores"
   ]
  },
  {
   "cell_type": "code",
   "execution_count": 6,
   "id": "0f9cf9f7",
   "metadata": {
    "vscode": {
     "languageId": "r"
    }
   },
   "outputs": [
    {
     "data": {
      "text/html": [
       "<table class=\"dataframe\">\n",
       "<caption>A data.frame: 9 × 3</caption>\n",
       "<thead>\n",
       "\t<tr><th scope=col>Cores</th><th scope=col>Freq</th><th scope=col>Proporcao</th></tr>\n",
       "\t<tr><th scope=col>&lt;fct&gt;</th><th scope=col>&lt;int&gt;</th><th scope=col>&lt;dbl&gt;</th></tr>\n",
       "</thead>\n",
       "<tbody>\n",
       "\t<tr><td>Azul    </td><td>17</td><td>0.113333333</td></tr>\n",
       "\t<tr><td>Bege    </td><td> 3</td><td>0.020000000</td></tr>\n",
       "\t<tr><td>Branco  </td><td>16</td><td>0.106666667</td></tr>\n",
       "\t<tr><td>Cinza   </td><td>16</td><td>0.106666667</td></tr>\n",
       "\t<tr><td>Gold    </td><td> 1</td><td>0.006666667</td></tr>\n",
       "\t<tr><td>Prata   </td><td>32</td><td>0.213333333</td></tr>\n",
       "\t<tr><td>Preto   </td><td>35</td><td>0.233333333</td></tr>\n",
       "\t<tr><td>Verde   </td><td> 5</td><td>0.033333333</td></tr>\n",
       "\t<tr><td>Vermelho</td><td>25</td><td>0.166666667</td></tr>\n",
       "</tbody>\n",
       "</table>\n"
      ],
      "text/latex": [
       "A data.frame: 9 × 3\n",
       "\\begin{tabular}{lll}\n",
       " Cores & Freq & Proporcao\\\\\n",
       " <fct> & <int> & <dbl>\\\\\n",
       "\\hline\n",
       "\t Azul     & 17 & 0.113333333\\\\\n",
       "\t Bege     &  3 & 0.020000000\\\\\n",
       "\t Branco   & 16 & 0.106666667\\\\\n",
       "\t Cinza    & 16 & 0.106666667\\\\\n",
       "\t Gold     &  1 & 0.006666667\\\\\n",
       "\t Prata    & 32 & 0.213333333\\\\\n",
       "\t Preto    & 35 & 0.233333333\\\\\n",
       "\t Verde    &  5 & 0.033333333\\\\\n",
       "\t Vermelho & 25 & 0.166666667\\\\\n",
       "\\end{tabular}\n"
      ],
      "text/markdown": [
       "\n",
       "A data.frame: 9 × 3\n",
       "\n",
       "| Cores &lt;fct&gt; | Freq &lt;int&gt; | Proporcao &lt;dbl&gt; |\n",
       "|---|---|---|\n",
       "| Azul     | 17 | 0.113333333 |\n",
       "| Bege     |  3 | 0.020000000 |\n",
       "| Branco   | 16 | 0.106666667 |\n",
       "| Cinza    | 16 | 0.106666667 |\n",
       "| Gold     |  1 | 0.006666667 |\n",
       "| Prata    | 32 | 0.213333333 |\n",
       "| Preto    | 35 | 0.233333333 |\n",
       "| Verde    |  5 | 0.033333333 |\n",
       "| Vermelho | 25 | 0.166666667 |\n",
       "\n"
      ],
      "text/plain": [
       "  Cores    Freq Proporcao  \n",
       "1 Azul     17   0.113333333\n",
       "2 Bege      3   0.020000000\n",
       "3 Branco   16   0.106666667\n",
       "4 Cinza    16   0.106666667\n",
       "5 Gold      1   0.006666667\n",
       "6 Prata    32   0.213333333\n",
       "7 Preto    35   0.233333333\n",
       "8 Verde     5   0.033333333\n",
       "9 Vermelho 25   0.166666667"
      ]
     },
     "metadata": {},
     "output_type": "display_data"
    }
   ],
   "source": [
    "colnames(frequencia_cores)[1] <- 'Cores'\n",
    "frequencia_cores"
   ]
  },
  {
   "cell_type": "code",
   "execution_count": 7,
   "id": "c12b806c",
   "metadata": {
    "vscode": {
     "languageId": "r"
    }
   },
   "outputs": [
    {
     "data": {
      "text/plain": [
       "\n",
       " SE SEL SES \n",
       " 78  23  49 "
      ]
     },
     "metadata": {},
     "output_type": "display_data"
    },
    {
     "data": {
      "text/plain": [
       "\n",
       "       SE       SEL       SES \n",
       "0.5200000 0.1533333 0.3266667 "
      ]
     },
     "metadata": {},
     "output_type": "display_data"
    }
   ],
   "source": [
    "table(carros$modelo)\n",
    "prop.table(table(carros$modelo))"
   ]
  },
  {
   "cell_type": "code",
   "execution_count": 8,
   "id": "2a78dd57",
   "metadata": {
    "vscode": {
     "languageId": "r"
    }
   },
   "outputs": [
    {
     "name": "stderr",
     "output_type": "stream",
     "text": [
      "Warning message:\n",
      "\"package 'dplyr' was built under R version 4.2.3\"\n",
      "\n",
      "Attaching package: 'dplyr'\n",
      "\n",
      "\n",
      "The following objects are masked from 'package:stats':\n",
      "\n",
      "    filter, lag\n",
      "\n",
      "\n",
      "The following objects are masked from 'package:base':\n",
      "\n",
      "    intersect, setdiff, setequal, union\n",
      "\n",
      "\n"
     ]
    }
   ],
   "source": [
    "library('dplyr')"
   ]
  },
  {
   "cell_type": "code",
   "execution_count": 9,
   "id": "61c398a6",
   "metadata": {
    "vscode": {
     "languageId": "r"
    }
   },
   "outputs": [
    {
     "data": {
      "text/html": [
       "<table class=\"dataframe\">\n",
       "<caption>A data.frame: 3 × 3</caption>\n",
       "<thead>\n",
       "\t<tr><th scope=col>Modelo</th><th scope=col>Freq</th><th scope=col>Proporcao</th></tr>\n",
       "\t<tr><th scope=col>&lt;fct&gt;</th><th scope=col>&lt;int&gt;</th><th scope=col>&lt;dbl&gt;</th></tr>\n",
       "</thead>\n",
       "<tbody>\n",
       "\t<tr><td>SE </td><td>78</td><td>0.52</td></tr>\n",
       "\t<tr><td>SEL</td><td>23</td><td>0.15</td></tr>\n",
       "\t<tr><td>SES</td><td>49</td><td>0.33</td></tr>\n",
       "</tbody>\n",
       "</table>\n"
      ],
      "text/latex": [
       "A data.frame: 3 × 3\n",
       "\\begin{tabular}{lll}\n",
       " Modelo & Freq & Proporcao\\\\\n",
       " <fct> & <int> & <dbl>\\\\\n",
       "\\hline\n",
       "\t SE  & 78 & 0.52\\\\\n",
       "\t SEL & 23 & 0.15\\\\\n",
       "\t SES & 49 & 0.33\\\\\n",
       "\\end{tabular}\n"
      ],
      "text/markdown": [
       "\n",
       "A data.frame: 3 × 3\n",
       "\n",
       "| Modelo &lt;fct&gt; | Freq &lt;int&gt; | Proporcao &lt;dbl&gt; |\n",
       "|---|---|---|\n",
       "| SE  | 78 | 0.52 |\n",
       "| SEL | 23 | 0.15 |\n",
       "| SES | 49 | 0.33 |\n",
       "\n"
      ],
      "text/plain": [
       "  Modelo Freq Proporcao\n",
       "1 SE     78   0.52     \n",
       "2 SEL    23   0.15     \n",
       "3 SES    49   0.33     "
      ]
     },
     "metadata": {},
     "output_type": "display_data"
    }
   ],
   "source": [
    "frequencia_modelo <- data.frame(table(carros$modelo))\n",
    "frequencia_modelo$Proporcao <- round(prop.table(frequencia_modelo$Freq), digits = 2)\n",
    "colnames(frequencia_modelo)[1] <- 'Modelo'\n",
    "frequencia_modelo"
   ]
  },
  {
   "cell_type": "code",
   "execution_count": 10,
   "id": "21af8cf6",
   "metadata": {
    "vscode": {
     "languageId": "r"
    }
   },
   "outputs": [
    {
     "data": {
      "text/html": [
       "<table class=\"dataframe\">\n",
       "<caption>A data.frame: 2 × 3</caption>\n",
       "<thead>\n",
       "\t<tr><th scope=col>Transmissao</th><th scope=col>Freq</th><th scope=col>Proporcao</th></tr>\n",
       "\t<tr><th scope=col>&lt;fct&gt;</th><th scope=col>&lt;int&gt;</th><th scope=col>&lt;dbl&gt;</th></tr>\n",
       "</thead>\n",
       "<tbody>\n",
       "\t<tr><td>AUTO  </td><td>128</td><td>0.85</td></tr>\n",
       "\t<tr><td>MANUAL</td><td> 22</td><td>0.15</td></tr>\n",
       "</tbody>\n",
       "</table>\n"
      ],
      "text/latex": [
       "A data.frame: 2 × 3\n",
       "\\begin{tabular}{lll}\n",
       " Transmissao & Freq & Proporcao\\\\\n",
       " <fct> & <int> & <dbl>\\\\\n",
       "\\hline\n",
       "\t AUTO   & 128 & 0.85\\\\\n",
       "\t MANUAL &  22 & 0.15\\\\\n",
       "\\end{tabular}\n"
      ],
      "text/markdown": [
       "\n",
       "A data.frame: 2 × 3\n",
       "\n",
       "| Transmissao &lt;fct&gt; | Freq &lt;int&gt; | Proporcao &lt;dbl&gt; |\n",
       "|---|---|---|\n",
       "| AUTO   | 128 | 0.85 |\n",
       "| MANUAL |  22 | 0.15 |\n",
       "\n"
      ],
      "text/plain": [
       "  Transmissao Freq Proporcao\n",
       "1 AUTO        128  0.85     \n",
       "2 MANUAL       22  0.15     "
      ]
     },
     "metadata": {},
     "output_type": "display_data"
    }
   ],
   "source": [
    "frequencia_transmi <- data.frame(table(carros$transmissao)) %>%\n",
    "  mutate(Proporcao = round(prop.table(Freq), digits = 2)) %>%\n",
    "  rename(Transmissao = Var1)\n",
    "frequencia_transmi"
   ]
  },
  {
   "cell_type": "code",
   "execution_count": 11,
   "id": "184fa841",
   "metadata": {
    "vscode": {
     "languageId": "r"
    }
   },
   "outputs": [
    {
     "name": "stderr",
     "output_type": "stream",
     "text": [
      "Warning message:\n",
      "\"package 'gmodels' was built under R version 4.2.3\"\n"
     ]
    }
   ],
   "source": [
    "library('gmodels')"
   ]
  },
  {
   "cell_type": "markdown",
   "id": "fe86ba2b",
   "metadata": {},
   "source": [
    "A **função CrossTable** do pacote gmodels em R é usada para criar tabelas de contingência (tabelas cruzadas) e realizar testes estatísticos de associação entre variáveis categóricas.  \n",
    "\n",
    "Ao criar uma tabela cruzada, as variáveis são dispostas em linhas e colunas, e as células contêm as contagens ou frequências de observações que se enquadram nas combinações específicas dessas variáveis. A tabela fornece uma visão compacta e organizada dos padrões nas categorias das variáveis, o que pode ajudar na identificação de associações ou padrões."
   ]
  },
  {
   "cell_type": "code",
   "execution_count": 12,
   "id": "aa28381c",
   "metadata": {
    "vscode": {
     "languageId": "r"
    }
   },
   "outputs": [
    {
     "name": "stdout",
     "output_type": "stream",
     "text": [
      "\n",
      " \n",
      "   Cell Contents\n",
      "|-------------------------|\n",
      "|                       N |\n",
      "|           N / Row Total |\n",
      "|           N / Col Total |\n",
      "|         N / Table Total |\n",
      "|-------------------------|\n",
      "\n",
      " \n",
      "Total Observations in Table:  150 \n",
      "\n",
      " \n",
      "              | carros$transmissao \n",
      "carros$modelo |      AUTO |    MANUAL | Row Total | \n",
      "--------------|-----------|-----------|-----------|\n",
      "           SE |        63 |        15 |        78 | \n",
      "              |     0.808 |     0.192 |     0.520 | \n",
      "              |     0.492 |     0.682 |           | \n",
      "              |     0.420 |     0.100 |           | \n",
      "--------------|-----------|-----------|-----------|\n",
      "          SEL |        22 |         1 |        23 | \n",
      "              |     0.957 |     0.043 |     0.153 | \n",
      "              |     0.172 |     0.045 |           | \n",
      "              |     0.147 |     0.007 |           | \n",
      "--------------|-----------|-----------|-----------|\n",
      "          SES |        43 |         6 |        49 | \n",
      "              |     0.878 |     0.122 |     0.327 | \n",
      "              |     0.336 |     0.273 |           | \n",
      "              |     0.287 |     0.040 |           | \n",
      "--------------|-----------|-----------|-----------|\n",
      " Column Total |       128 |        22 |       150 | \n",
      "              |     0.853 |     0.147 |           | \n",
      "--------------|-----------|-----------|-----------|\n",
      "\n",
      " \n"
     ]
    }
   ],
   "source": [
    "# prop.chisq = FALSE a contribuição para o qui-quadrado não será exibida na tabela.\n",
    "CrossTable(x = carros$modelo, y = carros$transmissao, prop.chisq = FALSE)"
   ]
  },
  {
   "cell_type": "markdown",
   "id": "a26bdb86",
   "metadata": {},
   "source": [
    "- Contagens Absolutas (N): Mostra o número real de observações em cada célula.  \n",
    "\n",
    "- Percentagens por Linha: Mostra a percentagem de observações em relação à soma das observações na mesma linha.  \n",
    "\n",
    "- Percentagens por Coluna: Mostra a percentagem de observações em relação à soma das observações na mesma coluna.  \n",
    "\n",
    "- Percentagem Geral: Mostra a percentagem de observações em relação ao total geral.  \n",
    "\n",
    "A imagem abaixo faz um demonstrativo da tabela:\n",
    "\n",
    "![cross.table](cross_table.jpg)"
   ]
  },
  {
   "cell_type": "markdown",
   "id": "55af4b00",
   "metadata": {},
   "source": [
    "## Teste do Qui-quadrado\n",
    "\n",
    "\n",
    "**O teste qui-quadrado (também conhecido como teste de qui-quadrado de independência) é uma técnica estatística usada para avaliar a associação entre duas variáveis categóricas.**\n",
    "\n",
    "Qui Quadrado, simbolizado por χ2 é um teste de hipóteses que se destina a encontrar um valor da  dispersão para duas variáveis nominais, avaliando a associação existente entre variáveis qualitativas. É um teste não paramétrico, ou seja, não depende dos parâmetros populacionais, como média e variância.   \n",
    "**O princípio básico deste método é comparar proporções, isto é, as possíveis divergências entre as frequências observadas e esperadas para um certo evento.** \n",
    "\n",
    "### A imagem abaixo exemplifica o calculo da frequencia esperada:\n",
    "\n",
    "- Em uma amostra com 100 observações e 5 categorias, se não houvesse prevalência esperaríamos que cada categoria tivesse 20 observações; \n",
    " - Esta premissa é baseada na expectativa de que, se não houver associação entre as variáveis, a proporção de observações em cada categoria seria uniforme. Ao dividir por 5, você está distribuindo igualmente as observações ao longo das categorias;\n",
    " - Elevamos ao quadrado a diferença para os resultados não se anulem(mesmo princípio do calculo da variância), em seguida dividimos pela frequencia esperada para retornarmos a unidade de medida anterior;\n",
    " \n",
    "![Freq.esperada](freq.esperada.jpg)\n",
    "\n",
    "\n",
    "- Em sequida precisamos calcular Graus de Liberdade, representado pela equação: gl=K -1;\n",
    "- Em que K se refere ao número de categorias na distribuição de frequencia observada;\n",
    "- gl=5-1=4\n",
    "- X² crítico = 9,488(significância = 0,05) . valor tabelado(tabela do Qui-Quadrado)\n",
    "\n",
    "![qui.quadrado](analise.qui.jpg)\n",
    "\n",
    "### O valor esta acima do valor crítico, portanto existe uma diferença estatisticamente significativa entre os grupos.\n",
    "\n",
    "### Quando temos uma tabela de contigência com duas colunas ou mais o calculo da frequencia esperada é um pouco diferente:  \n",
    "![Freq.esperada1](freq.esperada1.jpg)\n",
    "\n",
    "- E= (Total na linha) * (Total na Coluna) / Total Geral da Tabela\n",
    "\n",
    "Ex.: Para primeira observação temos: (78*128)/150= 66,56\n",
    "\n",
    "**Abaixo está o restante do calculo:**\n",
    "![Freq.SE](frequencia.SE.jpg)\n",
    "\n",
    "\n",
    "- Obs.: Ao setarmos prop.chisq = TRUE, o R ja calcula isto automaticamente:"
   ]
  },
  {
   "cell_type": "code",
   "execution_count": 13,
   "id": "549cc2e1",
   "metadata": {
    "vscode": {
     "languageId": "r"
    }
   },
   "outputs": [
    {
     "name": "stderr",
     "output_type": "stream",
     "text": [
      "Warning message in chisq.test(t, correct = FALSE, ...):\n",
      "\"Aproximação do qui-quadrado pode estar incorreta\"\n"
     ]
    },
    {
     "name": "stdout",
     "output_type": "stream",
     "text": [
      "\n",
      " \n",
      "   Cell Contents\n",
      "|-------------------------|\n",
      "|                       N |\n",
      "| Chi-square contribution |\n",
      "|           N / Row Total |\n",
      "|           N / Col Total |\n",
      "|         N / Table Total |\n",
      "|-------------------------|\n",
      "\n",
      " \n",
      "Total Observations in Table:  150 \n",
      "\n",
      " \n",
      "              | carros$transmissao \n",
      "carros$modelo |      AUTO |    MANUAL | Row Total | \n",
      "--------------|-----------|-----------|-----------|\n",
      "           SE |        63 |        15 |        78 | \n",
      "              |     0.190 |     1.108 |           | \n",
      "              |     0.808 |     0.192 |     0.520 | \n",
      "              |     0.492 |     0.682 |           | \n",
      "              |     0.420 |     0.100 |           | \n",
      "--------------|-----------|-----------|-----------|\n",
      "          SEL |        22 |         1 |        23 | \n",
      "              |     0.287 |     1.670 |           | \n",
      "              |     0.957 |     0.043 |     0.153 | \n",
      "              |     0.172 |     0.045 |           | \n",
      "              |     0.147 |     0.007 |           | \n",
      "--------------|-----------|-----------|-----------|\n",
      "          SES |        43 |         6 |        49 | \n",
      "              |     0.034 |     0.196 |           | \n",
      "              |     0.878 |     0.122 |     0.327 | \n",
      "              |     0.336 |     0.273 |           | \n",
      "              |     0.287 |     0.040 |           | \n",
      "--------------|-----------|-----------|-----------|\n",
      " Column Total |       128 |        22 |       150 | \n",
      "              |     0.853 |     0.147 |           | \n",
      "--------------|-----------|-----------|-----------|\n",
      "\n",
      " \n",
      "Statistics for All Table Factors\n",
      "\n",
      "\n",
      "Pearson's Chi-squared test \n",
      "------------------------------------------------------------\n",
      "Chi^2 =  3.48463     d.f. =  2     p =  0.1751145 \n",
      "\n",
      "\n",
      " \n"
     ]
    }
   ],
   "source": [
    "CrossTable(x = carros$modelo, y = carros$transmissao, prop.chisq = TRUE, chisq = TRUE)"
   ]
  },
  {
   "cell_type": "code",
   "execution_count": 14,
   "id": "4dacb8a0",
   "metadata": {
    "vscode": {
     "languageId": "r"
    }
   },
   "outputs": [
    {
     "name": "stderr",
     "output_type": "stream",
     "text": [
      "Warning message in chisq.test(x = carros$modelo, y = carros$transmissao):\n",
      "\"Aproximação do qui-quadrado pode estar incorreta\"\n"
     ]
    },
    {
     "data": {
      "text/plain": [
       "\n",
       "\tPearson's Chi-squared test\n",
       "\n",
       "data:  carros$modelo and carros$transmissao\n",
       "X-squared = 3.4846, df = 2, p-value = 0.1751\n"
      ]
     },
     "metadata": {},
     "output_type": "display_data"
    }
   ],
   "source": [
    "chisq.test(x = carros$modelo, y = carros$transmissao)"
   ]
  },
  {
   "cell_type": "markdown",
   "id": "054c2870",
   "metadata": {},
   "source": [
    "No contexto do teste do qui-quadrado, **a hipótese nula (H0)** afirma que não há associação entre as variáveis categóricas em estudo. Em outras palavras, a distribuição das categorias em uma variável não é influenciada pela distribuição da outra variável; são independentes.\n",
    "**A hipótese alternativa (H1/ HA)** contradiz isso e sugere que há alguma associação ou dependência entre as variáveis categóricas.\n",
    "\n",
    "- A hipótese nula no teste do qui-quadrado afirma que não há diferença significativa entre as frequências observadas e esperadas, o que, por sua vez, sugere que as variáveis são independentes.\n",
    "- HA: Há uma diferença significativa entre as frequências observadas e esperadas,ou seja, as variáveis não são independentes, há associação.\n",
    "\n",
    "Portanto, ao realizarmos o teste do qui-quadrado para independência, **estamos avaliando se as diferenças entre as frequências observadas e esperadas são grandes o suficiente para sugerir que** as variáveis não são independentes, ou seja, **há uma associação significativa entre elas**. (   \n",
    "Se as frequências observadas e esperadas são consistentes(não há diferença significativa), isso apoia a ideia de que as variáveis são independentes. \n",
    "\n",
    "\n",
    "### Neste caso, o valor do Chi = 3.47, graus de liberdade (df) = 2;\n",
    "### Valor do Chi menor que X² crítico para 2 graus de liberdade (5,991)\n",
    "### O valor alto do p-value confirma esta conclusão (maior que 0,05)\n",
    "### Portanto, não há associação entre os grupos"
   ]
  },
  {
   "cell_type": "markdown",
   "id": "b926f6dd",
   "metadata": {},
   "source": [
    "## Para exemplificar melhor vamos considerar um exemplo hipotético para ilustrar isso. Suponha que estamos estudando a relação entre o gênero (Masculino/Feminino) e a preferência por três tipos de bebida (Café/Chá/Suco). Aqui está uma tabela de contingência hipotética:"
   ]
  },
  {
   "cell_type": "code",
   "execution_count": 15,
   "id": "fa5f9e7f",
   "metadata": {
    "vscode": {
     "languageId": "r"
    }
   },
   "outputs": [
    {
     "data": {
      "text/html": [
       "<table class=\"dataframe\">\n",
       "<caption>A data.frame: 2 × 4</caption>\n",
       "<thead>\n",
       "\t<tr><th scope=col>Genero</th><th scope=col>Cafe</th><th scope=col>Cha</th><th scope=col>Suco</th></tr>\n",
       "\t<tr><th scope=col>&lt;chr&gt;</th><th scope=col>&lt;dbl&gt;</th><th scope=col>&lt;dbl&gt;</th><th scope=col>&lt;dbl&gt;</th></tr>\n",
       "</thead>\n",
       "<tbody>\n",
       "\t<tr><td>Masculino</td><td>110</td><td> 50</td><td>60</td></tr>\n",
       "\t<tr><td>Feminino </td><td> 40</td><td>100</td><td>90</td></tr>\n",
       "</tbody>\n",
       "</table>\n"
      ],
      "text/latex": [
       "A data.frame: 2 × 4\n",
       "\\begin{tabular}{llll}\n",
       " Genero & Cafe & Cha & Suco\\\\\n",
       " <chr> & <dbl> & <dbl> & <dbl>\\\\\n",
       "\\hline\n",
       "\t Masculino & 110 &  50 & 60\\\\\n",
       "\t Feminino  &  40 & 100 & 90\\\\\n",
       "\\end{tabular}\n"
      ],
      "text/markdown": [
       "\n",
       "A data.frame: 2 × 4\n",
       "\n",
       "| Genero &lt;chr&gt; | Cafe &lt;dbl&gt; | Cha &lt;dbl&gt; | Suco &lt;dbl&gt; |\n",
       "|---|---|---|---|\n",
       "| Masculino | 110 |  50 | 60 |\n",
       "| Feminino  |  40 | 100 | 90 |\n",
       "\n"
      ],
      "text/plain": [
       "  Genero    Cafe Cha Suco\n",
       "1 Masculino 110   50 60  \n",
       "2 Feminino   40  100 90  "
      ]
     },
     "metadata": {},
     "output_type": "display_data"
    }
   ],
   "source": [
    "#vamos criar uma proporção primeiramente que haja preferencia por bebidas dependendo do genêro.\n",
    "bebidas <- data.frame(\n",
    "  Genero = c(\"Masculino\", \"Feminino\"),\n",
    "  Cafe = c(110, 40),\n",
    "  Cha = c(50, 100),\n",
    "    Suco =c(60,90)\n",
    ")\n",
    "bebidas"
   ]
  },
  {
   "cell_type": "code",
   "execution_count": 16,
   "id": "31e60d51",
   "metadata": {
    "vscode": {
     "languageId": "r"
    }
   },
   "outputs": [
    {
     "data": {
      "text/html": [
       "<style>\n",
       ".list-inline {list-style: none; margin:0; padding: 0}\n",
       ".list-inline>li {display: inline-block}\n",
       ".list-inline>li:not(:last-child)::after {content: \"\\00b7\"; padding: 0 .5ex}\n",
       "</style>\n",
       "<ol class=list-inline><li>220</li><li>230</li></ol>\n"
      ],
      "text/latex": [
       "\\begin{enumerate*}\n",
       "\\item 220\n",
       "\\item 230\n",
       "\\end{enumerate*}\n"
      ],
      "text/markdown": [
       "1. 220\n",
       "2. 230\n",
       "\n",
       "\n"
      ],
      "text/plain": [
       "[1] 220 230"
      ]
     },
     "metadata": {},
     "output_type": "display_data"
    }
   ],
   "source": [
    "# Adicionando totais da coluna cafe, cha e suco à uma variável.\n",
    "soma_linha <-apply(bebidas[2:4],1,sum)\n",
    "soma_linha"
   ]
  },
  {
   "cell_type": "code",
   "execution_count": 17,
   "id": "e5628a26",
   "metadata": {
    "vscode": {
     "languageId": "r"
    }
   },
   "outputs": [
    {
     "data": {
      "text/html": [
       "<table class=\"dataframe\">\n",
       "<caption>A data.frame: 2 × 5</caption>\n",
       "<thead>\n",
       "\t<tr><th scope=col>Genero</th><th scope=col>Cafe</th><th scope=col>Cha</th><th scope=col>Suco</th><th scope=col>soma_linha</th></tr>\n",
       "\t<tr><th scope=col>&lt;chr&gt;</th><th scope=col>&lt;dbl&gt;</th><th scope=col>&lt;dbl&gt;</th><th scope=col>&lt;dbl&gt;</th><th scope=col>&lt;dbl&gt;</th></tr>\n",
       "</thead>\n",
       "<tbody>\n",
       "\t<tr><td>Masculino</td><td>110</td><td> 50</td><td>60</td><td>220</td></tr>\n",
       "\t<tr><td>Feminino </td><td> 40</td><td>100</td><td>90</td><td>230</td></tr>\n",
       "</tbody>\n",
       "</table>\n"
      ],
      "text/latex": [
       "A data.frame: 2 × 5\n",
       "\\begin{tabular}{lllll}\n",
       " Genero & Cafe & Cha & Suco & soma\\_linha\\\\\n",
       " <chr> & <dbl> & <dbl> & <dbl> & <dbl>\\\\\n",
       "\\hline\n",
       "\t Masculino & 110 &  50 & 60 & 220\\\\\n",
       "\t Feminino  &  40 & 100 & 90 & 230\\\\\n",
       "\\end{tabular}\n"
      ],
      "text/markdown": [
       "\n",
       "A data.frame: 2 × 5\n",
       "\n",
       "| Genero &lt;chr&gt; | Cafe &lt;dbl&gt; | Cha &lt;dbl&gt; | Suco &lt;dbl&gt; | soma_linha &lt;dbl&gt; |\n",
       "|---|---|---|---|---|\n",
       "| Masculino | 110 |  50 | 60 | 220 |\n",
       "| Feminino  |  40 | 100 | 90 | 230 |\n",
       "\n"
      ],
      "text/plain": [
       "  Genero    Cafe Cha Suco soma_linha\n",
       "1 Masculino 110   50 60   220       \n",
       "2 Feminino   40  100 90   230       "
      ]
     },
     "metadata": {},
     "output_type": "display_data"
    }
   ],
   "source": [
    "bebidas1<- cbind(bebidas,soma_linha) \n",
    "bebidas1"
   ]
  },
  {
   "cell_type": "code",
   "execution_count": 18,
   "id": "6cc19d3d",
   "metadata": {
    "vscode": {
     "languageId": "r"
    }
   },
   "outputs": [
    {
     "data": {
      "text/html": [
       "<style>\n",
       ".dl-inline {width: auto; margin:0; padding: 0}\n",
       ".dl-inline>dt, .dl-inline>dd {float: none; width: auto; display: inline-block}\n",
       ".dl-inline>dt::after {content: \":\\0020\"; padding-right: .5ex}\n",
       ".dl-inline>dt:not(:first-of-type) {padding-left: .5ex}\n",
       "</style><dl class=dl-inline><dt>Cafe</dt><dd>150</dd><dt>Cha</dt><dd>150</dd><dt>Suco</dt><dd>150</dd><dt>soma_linha</dt><dd>450</dd></dl>\n"
      ],
      "text/latex": [
       "\\begin{description*}\n",
       "\\item[Cafe] 150\n",
       "\\item[Cha] 150\n",
       "\\item[Suco] 150\n",
       "\\item[soma\\textbackslash{}\\_linha] 450\n",
       "\\end{description*}\n"
      ],
      "text/markdown": [
       "Cafe\n",
       ":   150Cha\n",
       ":   150Suco\n",
       ":   150soma_linha\n",
       ":   450\n",
       "\n"
      ],
      "text/plain": [
       "      Cafe        Cha       Suco soma_linha \n",
       "       150        150        150        450 "
      ]
     },
     "metadata": {},
     "output_type": "display_data"
    }
   ],
   "source": [
    "soma_coluna <- apply(bebidas1[2:5], 2, sum)\n",
    "soma_coluna"
   ]
  },
  {
   "cell_type": "code",
   "execution_count": 19,
   "id": "7aacfbb6",
   "metadata": {
    "vscode": {
     "languageId": "r"
    }
   },
   "outputs": [
    {
     "data": {
      "text/html": [
       "<table class=\"dataframe\">\n",
       "<caption>A data.frame: 3 × 5</caption>\n",
       "<thead>\n",
       "\t<tr><th scope=col>Genero</th><th scope=col>Cafe</th><th scope=col>Cha</th><th scope=col>Suco</th><th scope=col>soma_linha</th></tr>\n",
       "\t<tr><th scope=col>&lt;chr&gt;</th><th scope=col>&lt;chr&gt;</th><th scope=col>&lt;chr&gt;</th><th scope=col>&lt;chr&gt;</th><th scope=col>&lt;chr&gt;</th></tr>\n",
       "</thead>\n",
       "<tbody>\n",
       "\t<tr><td>Masculino   </td><td>110</td><td>50 </td><td>60 </td><td>220</td></tr>\n",
       "\t<tr><td>Feminino    </td><td>40 </td><td>100</td><td>90 </td><td>230</td></tr>\n",
       "\t<tr><td>Total_coluna</td><td>150</td><td>150</td><td>150</td><td>450</td></tr>\n",
       "</tbody>\n",
       "</table>\n"
      ],
      "text/latex": [
       "A data.frame: 3 × 5\n",
       "\\begin{tabular}{lllll}\n",
       " Genero & Cafe & Cha & Suco & soma\\_linha\\\\\n",
       " <chr> & <chr> & <chr> & <chr> & <chr>\\\\\n",
       "\\hline\n",
       "\t Masculino    & 110 & 50  & 60  & 220\\\\\n",
       "\t Feminino     & 40  & 100 & 90  & 230\\\\\n",
       "\t Total\\_coluna & 150 & 150 & 150 & 450\\\\\n",
       "\\end{tabular}\n"
      ],
      "text/markdown": [
       "\n",
       "A data.frame: 3 × 5\n",
       "\n",
       "| Genero &lt;chr&gt; | Cafe &lt;chr&gt; | Cha &lt;chr&gt; | Suco &lt;chr&gt; | soma_linha &lt;chr&gt; |\n",
       "|---|---|---|---|---|\n",
       "| Masculino    | 110 | 50  | 60  | 220 |\n",
       "| Feminino     | 40  | 100 | 90  | 230 |\n",
       "| Total_coluna | 150 | 150 | 150 | 450 |\n",
       "\n"
      ],
      "text/plain": [
       "  Genero       Cafe Cha Suco soma_linha\n",
       "1 Masculino    110  50  60   220       \n",
       "2 Feminino     40   100 90   230       \n",
       "3 Total_coluna 150  150 150  450       "
      ]
     },
     "metadata": {},
     "output_type": "display_data"
    }
   ],
   "source": [
    "# Criar um novo data frame com a soma das colunas\n",
    "nova_linha <- c('Total_coluna', soma_coluna)\n",
    "bebidas2 <- rbind(bebidas1, nova_linha)\n",
    "bebidas2"
   ]
  },
  {
   "cell_type": "code",
   "execution_count": 20,
   "id": "3629c7a3",
   "metadata": {
    "vscode": {
     "languageId": "r"
    }
   },
   "outputs": [
    {
     "data": {
      "text/html": [
       "<table class=\"dataframe\">\n",
       "<caption>A data.frame: 3 × 5</caption>\n",
       "<thead>\n",
       "\t<tr><th scope=col>Genero</th><th scope=col>Cafe</th><th scope=col>Cha</th><th scope=col>Suco</th><th scope=col>Total_linha</th></tr>\n",
       "\t<tr><th scope=col>&lt;chr&gt;</th><th scope=col>&lt;chr&gt;</th><th scope=col>&lt;chr&gt;</th><th scope=col>&lt;chr&gt;</th><th scope=col>&lt;chr&gt;</th></tr>\n",
       "</thead>\n",
       "<tbody>\n",
       "\t<tr><td>Masculino   </td><td>110</td><td>50 </td><td>60 </td><td>220</td></tr>\n",
       "\t<tr><td>Feminino    </td><td>40 </td><td>100</td><td>90 </td><td>230</td></tr>\n",
       "\t<tr><td>Total_coluna</td><td>150</td><td>150</td><td>150</td><td>450</td></tr>\n",
       "</tbody>\n",
       "</table>\n"
      ],
      "text/latex": [
       "A data.frame: 3 × 5\n",
       "\\begin{tabular}{lllll}\n",
       " Genero & Cafe & Cha & Suco & Total\\_linha\\\\\n",
       " <chr> & <chr> & <chr> & <chr> & <chr>\\\\\n",
       "\\hline\n",
       "\t Masculino    & 110 & 50  & 60  & 220\\\\\n",
       "\t Feminino     & 40  & 100 & 90  & 230\\\\\n",
       "\t Total\\_coluna & 150 & 150 & 150 & 450\\\\\n",
       "\\end{tabular}\n"
      ],
      "text/markdown": [
       "\n",
       "A data.frame: 3 × 5\n",
       "\n",
       "| Genero &lt;chr&gt; | Cafe &lt;chr&gt; | Cha &lt;chr&gt; | Suco &lt;chr&gt; | Total_linha &lt;chr&gt; |\n",
       "|---|---|---|---|---|\n",
       "| Masculino    | 110 | 50  | 60  | 220 |\n",
       "| Feminino     | 40  | 100 | 90  | 230 |\n",
       "| Total_coluna | 150 | 150 | 150 | 450 |\n",
       "\n"
      ],
      "text/plain": [
       "  Genero       Cafe Cha Suco Total_linha\n",
       "1 Masculino    110  50  60   220        \n",
       "2 Feminino     40   100 90   230        \n",
       "3 Total_coluna 150  150 150  450        "
      ]
     },
     "metadata": {},
     "output_type": "display_data"
    }
   ],
   "source": [
    "#Visão geral da tabela de contigência\n",
    "colnames(bebidas2)[5] <- 'Total_linha'\n",
    "bebidas2"
   ]
  },
  {
   "cell_type": "code",
   "execution_count": 21,
   "id": "ddc217e2",
   "metadata": {
    "vscode": {
     "languageId": "r"
    }
   },
   "outputs": [
    {
     "name": "stderr",
     "output_type": "stream",
     "text": [
      "Warning message:\n",
      "\"package 'tidyr' was built under R version 4.2.3\"\n"
     ]
    }
   ],
   "source": [
    "#Agora usamos a função gather do pacote Tidyr para transformar os dados\n",
    "library(tidyr)"
   ]
  },
  {
   "cell_type": "code",
   "execution_count": 22,
   "id": "30284ed9",
   "metadata": {
    "vscode": {
     "languageId": "r"
    }
   },
   "outputs": [],
   "source": [
    "bebidas_dados <- gather(bebidas, key = 'Bebidas', value = 'Quantidade', Cafe:Suco, -Genero)"
   ]
  },
  {
   "cell_type": "code",
   "execution_count": 23,
   "id": "d2d7ba2f",
   "metadata": {
    "scrolled": true,
    "vscode": {
     "languageId": "r"
    }
   },
   "outputs": [
    {
     "data": {
      "text/html": [
       "<table class=\"dataframe\">\n",
       "<caption>A data.frame: 6 × 3</caption>\n",
       "<thead>\n",
       "\t<tr><th scope=col>Genero</th><th scope=col>Bebidas</th><th scope=col>Quantidade</th></tr>\n",
       "\t<tr><th scope=col>&lt;chr&gt;</th><th scope=col>&lt;chr&gt;</th><th scope=col>&lt;dbl&gt;</th></tr>\n",
       "</thead>\n",
       "<tbody>\n",
       "\t<tr><td>Masculino</td><td>Cafe</td><td>110</td></tr>\n",
       "\t<tr><td>Feminino </td><td>Cafe</td><td> 40</td></tr>\n",
       "\t<tr><td>Masculino</td><td>Cha </td><td> 50</td></tr>\n",
       "\t<tr><td>Feminino </td><td>Cha </td><td>100</td></tr>\n",
       "\t<tr><td>Masculino</td><td>Suco</td><td> 60</td></tr>\n",
       "\t<tr><td>Feminino </td><td>Suco</td><td> 90</td></tr>\n",
       "</tbody>\n",
       "</table>\n"
      ],
      "text/latex": [
       "A data.frame: 6 × 3\n",
       "\\begin{tabular}{lll}\n",
       " Genero & Bebidas & Quantidade\\\\\n",
       " <chr> & <chr> & <dbl>\\\\\n",
       "\\hline\n",
       "\t Masculino & Cafe & 110\\\\\n",
       "\t Feminino  & Cafe &  40\\\\\n",
       "\t Masculino & Cha  &  50\\\\\n",
       "\t Feminino  & Cha  & 100\\\\\n",
       "\t Masculino & Suco &  60\\\\\n",
       "\t Feminino  & Suco &  90\\\\\n",
       "\\end{tabular}\n"
      ],
      "text/markdown": [
       "\n",
       "A data.frame: 6 × 3\n",
       "\n",
       "| Genero &lt;chr&gt; | Bebidas &lt;chr&gt; | Quantidade &lt;dbl&gt; |\n",
       "|---|---|---|\n",
       "| Masculino | Cafe | 110 |\n",
       "| Feminino  | Cafe |  40 |\n",
       "| Masculino | Cha  |  50 |\n",
       "| Feminino  | Cha  | 100 |\n",
       "| Masculino | Suco |  60 |\n",
       "| Feminino  | Suco |  90 |\n",
       "\n"
      ],
      "text/plain": [
       "  Genero    Bebidas Quantidade\n",
       "1 Masculino Cafe    110       \n",
       "2 Feminino  Cafe     40       \n",
       "3 Masculino Cha      50       \n",
       "4 Feminino  Cha     100       \n",
       "5 Masculino Suco     60       \n",
       "6 Feminino  Suco     90       "
      ]
     },
     "metadata": {},
     "output_type": "display_data"
    }
   ],
   "source": [
    "bebidas_dados"
   ]
  },
  {
   "cell_type": "code",
   "execution_count": 24,
   "id": "6d87889a",
   "metadata": {
    "vscode": {
     "languageId": "r"
    }
   },
   "outputs": [],
   "source": [
    "# Versão extendida do dataframe onde as linhas foram replicadas de acordo com a quantidade especificada em cada observação.\n",
    "dados_expandidos <- bebidas_dados %>%\n",
    "  group_by(Genero, Bebidas) %>%\n",
    "  slice(rep(1:n(), each = Quantidade)) %>%\n",
    "  ungroup() %>%\n",
    "  select(-Quantidade)"
   ]
  },
  {
   "cell_type": "code",
   "execution_count": 25,
   "id": "71a8cb83",
   "metadata": {
    "vscode": {
     "languageId": "r"
    }
   },
   "outputs": [
    {
     "data": {
      "text/html": [
       "<table class=\"dataframe\">\n",
       "<caption>A tibble: 6 × 2</caption>\n",
       "<thead>\n",
       "\t<tr><th scope=col>Genero</th><th scope=col>Bebidas</th></tr>\n",
       "\t<tr><th scope=col>&lt;chr&gt;</th><th scope=col>&lt;chr&gt;</th></tr>\n",
       "</thead>\n",
       "<tbody>\n",
       "\t<tr><td>Feminino</td><td>Cafe</td></tr>\n",
       "\t<tr><td>Feminino</td><td>Cafe</td></tr>\n",
       "\t<tr><td>Feminino</td><td>Cafe</td></tr>\n",
       "\t<tr><td>Feminino</td><td>Cafe</td></tr>\n",
       "\t<tr><td>Feminino</td><td>Cafe</td></tr>\n",
       "\t<tr><td>Feminino</td><td>Cafe</td></tr>\n",
       "</tbody>\n",
       "</table>\n"
      ],
      "text/latex": [
       "A tibble: 6 × 2\n",
       "\\begin{tabular}{ll}\n",
       " Genero & Bebidas\\\\\n",
       " <chr> & <chr>\\\\\n",
       "\\hline\n",
       "\t Feminino & Cafe\\\\\n",
       "\t Feminino & Cafe\\\\\n",
       "\t Feminino & Cafe\\\\\n",
       "\t Feminino & Cafe\\\\\n",
       "\t Feminino & Cafe\\\\\n",
       "\t Feminino & Cafe\\\\\n",
       "\\end{tabular}\n"
      ],
      "text/markdown": [
       "\n",
       "A tibble: 6 × 2\n",
       "\n",
       "| Genero &lt;chr&gt; | Bebidas &lt;chr&gt; |\n",
       "|---|---|\n",
       "| Feminino | Cafe |\n",
       "| Feminino | Cafe |\n",
       "| Feminino | Cafe |\n",
       "| Feminino | Cafe |\n",
       "| Feminino | Cafe |\n",
       "| Feminino | Cafe |\n",
       "\n"
      ],
      "text/plain": [
       "  Genero   Bebidas\n",
       "1 Feminino Cafe   \n",
       "2 Feminino Cafe   \n",
       "3 Feminino Cafe   \n",
       "4 Feminino Cafe   \n",
       "5 Feminino Cafe   \n",
       "6 Feminino Cafe   "
      ]
     },
     "metadata": {},
     "output_type": "display_data"
    }
   ],
   "source": [
    "head(dados_expandidos)"
   ]
  },
  {
   "cell_type": "code",
   "execution_count": 26,
   "id": "d87aef99",
   "metadata": {
    "vscode": {
     "languageId": "r"
    }
   },
   "outputs": [
    {
     "name": "stdout",
     "output_type": "stream",
     "text": [
      "\n",
      " \n",
      "   Cell Contents\n",
      "|-------------------------|\n",
      "|                       N |\n",
      "| Chi-square contribution |\n",
      "|           N / Row Total |\n",
      "|           N / Col Total |\n",
      "|         N / Table Total |\n",
      "|-------------------------|\n",
      "\n",
      " \n",
      "Total Observations in Table:  450 \n",
      "\n",
      " \n",
      "                        | dados_expandidos$Bebidas \n",
      "dados_expandidos$Genero |      Cafe |       Cha |      Suco | Row Total | \n",
      "------------------------|-----------|-----------|-----------|-----------|\n",
      "               Feminino |        40 |       100 |        90 |       230 | \n",
      "                        |    17.536 |     7.101 |     2.319 |           | \n",
      "                        |     0.174 |     0.435 |     0.391 |     0.511 | \n",
      "                        |     0.267 |     0.667 |     0.600 |           | \n",
      "                        |     0.089 |     0.222 |     0.200 |           | \n",
      "------------------------|-----------|-----------|-----------|-----------|\n",
      "              Masculino |       110 |        50 |        60 |       220 | \n",
      "                        |    18.333 |     7.424 |     2.424 |           | \n",
      "                        |     0.500 |     0.227 |     0.273 |     0.489 | \n",
      "                        |     0.733 |     0.333 |     0.400 |           | \n",
      "                        |     0.244 |     0.111 |     0.133 |           | \n",
      "------------------------|-----------|-----------|-----------|-----------|\n",
      "           Column Total |       150 |       150 |       150 |       450 | \n",
      "                        |     0.333 |     0.333 |     0.333 |           | \n",
      "------------------------|-----------|-----------|-----------|-----------|\n",
      "\n",
      " \n",
      "Statistics for All Table Factors\n",
      "\n",
      "\n",
      "Pearson's Chi-squared test \n",
      "------------------------------------------------------------\n",
      "Chi^2 =  55.13834     d.f. =  2     p =  1.063804e-12 \n",
      "\n",
      "\n",
      " \n"
     ]
    }
   ],
   "source": [
    "CrossTable(x = dados_expandidos$Genero, y = dados_expandidos$Bebidas, prop.chisq = TRUE, chisq = TRUE)"
   ]
  },
  {
   "cell_type": "markdown",
   "id": "1e7daba3",
   "metadata": {},
   "source": [
    "### Neste caso, claramente as variáveis são dependentes.  Isso significa que a preferência por café, chá ou suco está relacionada ao gênero. Verificamos que há uma grande discrepância entre as frequências observadas e esperadas em uma ou mais células, isso sugere que as variáveis não são independentes, e pode indicar uma associação entre elas\n",
    "\n",
    "### Já sob independência, você esperaria ver um número semelhante de observações em cada célula da tabela de contingência,  a distribuição conjunta das categorias deve ser relativamente uniforme em toda a tabela. Isso nos informaria que preferência por café, chá ou suco não está relacionada ao gênero. Se as variáveis são independentes, você esperaria que cada célula tivesse um valor próximo ao esperado.\n",
    "\n",
    "### Agora vamos gerar outra tabela com valores com uma distribuição mais uniforme:"
   ]
  },
  {
   "cell_type": "code",
   "execution_count": 27,
   "id": "80fbc04f",
   "metadata": {
    "vscode": {
     "languageId": "r"
    }
   },
   "outputs": [
    {
     "data": {
      "text/html": [
       "<table class=\"dataframe\">\n",
       "<caption>A data.frame: 2 × 4</caption>\n",
       "<thead>\n",
       "\t<tr><th scope=col>Genero</th><th scope=col>Cafe</th><th scope=col>Cha</th><th scope=col>Suco</th></tr>\n",
       "\t<tr><th scope=col>&lt;chr&gt;</th><th scope=col>&lt;dbl&gt;</th><th scope=col>&lt;dbl&gt;</th><th scope=col>&lt;dbl&gt;</th></tr>\n",
       "</thead>\n",
       "<tbody>\n",
       "\t<tr><td>Masculino</td><td>75</td><td>80</td><td>75</td></tr>\n",
       "\t<tr><td>Feminino </td><td>82</td><td>70</td><td>78</td></tr>\n",
       "</tbody>\n",
       "</table>\n"
      ],
      "text/latex": [
       "A data.frame: 2 × 4\n",
       "\\begin{tabular}{llll}\n",
       " Genero & Cafe & Cha & Suco\\\\\n",
       " <chr> & <dbl> & <dbl> & <dbl>\\\\\n",
       "\\hline\n",
       "\t Masculino & 75 & 80 & 75\\\\\n",
       "\t Feminino  & 82 & 70 & 78\\\\\n",
       "\\end{tabular}\n"
      ],
      "text/markdown": [
       "\n",
       "A data.frame: 2 × 4\n",
       "\n",
       "| Genero &lt;chr&gt; | Cafe &lt;dbl&gt; | Cha &lt;dbl&gt; | Suco &lt;dbl&gt; |\n",
       "|---|---|---|---|\n",
       "| Masculino | 75 | 80 | 75 |\n",
       "| Feminino  | 82 | 70 | 78 |\n",
       "\n"
      ],
      "text/plain": [
       "  Genero    Cafe Cha Suco\n",
       "1 Masculino 75   80  75  \n",
       "2 Feminino  82   70  78  "
      ]
     },
     "metadata": {},
     "output_type": "display_data"
    }
   ],
   "source": [
    "bebidas <- data.frame(\n",
    "  Genero = c(\"Masculino\", \"Feminino\"),\n",
    "  Cafe = c(75, 82),\n",
    "  Cha = c(80, 70),\n",
    "    Suco =c(75,78)\n",
    ")\n",
    "bebidas"
   ]
  },
  {
   "cell_type": "code",
   "execution_count": 28,
   "id": "c23d5dfa",
   "metadata": {
    "vscode": {
     "languageId": "r"
    }
   },
   "outputs": [],
   "source": [
    "bebidas_dados <- gather(bebidas, key = 'Bebidas', value = 'Quantidade', Cafe:Suco, -Genero)"
   ]
  },
  {
   "cell_type": "code",
   "execution_count": 29,
   "id": "51a48ff0",
   "metadata": {
    "vscode": {
     "languageId": "r"
    }
   },
   "outputs": [],
   "source": [
    "dados_expandidos <- bebidas_dados %>%\n",
    "  group_by(Genero, Bebidas) %>%\n",
    "  slice(rep(1:n(), each = Quantidade)) %>%\n",
    "  ungroup() %>%\n",
    "  select(-Quantidade)"
   ]
  },
  {
   "cell_type": "code",
   "execution_count": 30,
   "id": "fc9e1729",
   "metadata": {
    "vscode": {
     "languageId": "r"
    }
   },
   "outputs": [
    {
     "name": "stdout",
     "output_type": "stream",
     "text": [
      "\n",
      " \n",
      "   Cell Contents\n",
      "|-------------------------|\n",
      "|                       N |\n",
      "| Chi-square contribution |\n",
      "|           N / Row Total |\n",
      "|           N / Col Total |\n",
      "|         N / Table Total |\n",
      "|-------------------------|\n",
      "\n",
      " \n",
      "Total Observations in Table:  460 \n",
      "\n",
      " \n",
      "                        | dados_expandidos$Bebidas \n",
      "dados_expandidos$Genero |      Cafe |       Cha |      Suco | Row Total | \n",
      "------------------------|-----------|-----------|-----------|-----------|\n",
      "               Feminino |        82 |        70 |        78 |       230 | \n",
      "                        |     0.156 |     0.333 |     0.029 |           | \n",
      "                        |     0.357 |     0.304 |     0.339 |     0.500 | \n",
      "                        |     0.522 |     0.467 |     0.510 |           | \n",
      "                        |     0.178 |     0.152 |     0.170 |           | \n",
      "------------------------|-----------|-----------|-----------|-----------|\n",
      "              Masculino |        75 |        80 |        75 |       230 | \n",
      "                        |     0.156 |     0.333 |     0.029 |           | \n",
      "                        |     0.326 |     0.348 |     0.326 |     0.500 | \n",
      "                        |     0.478 |     0.533 |     0.490 |           | \n",
      "                        |     0.163 |     0.174 |     0.163 |           | \n",
      "------------------------|-----------|-----------|-----------|-----------|\n",
      "           Column Total |       157 |       150 |       153 |       460 | \n",
      "                        |     0.341 |     0.326 |     0.333 |           | \n",
      "------------------------|-----------|-----------|-----------|-----------|\n",
      "\n",
      " \n",
      "Statistics for All Table Factors\n",
      "\n",
      "\n",
      "Pearson's Chi-squared test \n",
      "------------------------------------------------------------\n",
      "Chi^2 =  1.037592     d.f. =  2     p =  0.5952367 \n",
      "\n",
      "\n",
      " \n"
     ]
    }
   ],
   "source": [
    "CrossTable(x = dados_expandidos$Genero, y = dados_expandidos$Bebidas, prop.chisq = TRUE, chisq = TRUE)"
   ]
  }
 ],
 "metadata": {
  "kernelspec": {
   "display_name": "R",
   "language": "R",
   "name": "ir"
  },
  "language_info": {
   "codemirror_mode": "r",
   "file_extension": ".r",
   "mimetype": "text/x-r-source",
   "name": "R",
   "pygments_lexer": "r",
   "version": "4.2.2"
  }
 },
 "nbformat": 4,
 "nbformat_minor": 5
}
